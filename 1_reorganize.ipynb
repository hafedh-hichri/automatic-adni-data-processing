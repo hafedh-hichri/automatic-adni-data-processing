{
 "cells": [
  {
   "cell_type": "code",
   "execution_count": 6,
   "metadata": {},
   "outputs": [],
   "source": [
    "import os\n",
    "import glob\n",
    "import shutil\n",
    "from tqdm import *\n",
    "from subprocess import check_call\n",
    "import numpy as np\n",
    "import matplotlib.pyplot as plt\n",
    "import os\n",
    "import pandas as pd\n",
    "import skimage.transform as skTrans\n",
    "import pickle\n",
    "# from nilearn.plotting import plot_anat\n",
    "from nipype.interfaces.fsl import BET\n",
    "import nibabel as nib\n"
   ]
  },
  {
   "cell_type": "code",
   "execution_count": 4,
   "metadata": {},
   "outputs": [],
   "source": [
    "def create_dir(path):\n",
    "    if not os.path.isdir(path):\n",
    "        os.makedirs(path)\n",
    "    return\n",
    "\n",
    "\n",
    "parent_dir = os.getcwd()\n",
    "data_dir = os.path.join(parent_dir,\"data\", \"ADNIData\")\n",
    "create_dir(data_dir)\n"
   ]
  },
  {
   "cell_type": "code",
   "execution_count": 8,
   "metadata": {},
   "outputs": [],
   "source": [
    "# df = pd.read_csv('./ADNI1_Annual_2_Yr_3T_7_06_2022.csv')\n",
    "data= []\n",
    "for root, dirs, files in os.walk(\"data/ADNI/\", topdown=False):\n",
    "    for name in files:\n",
    "        p = os.path.join(root, name)\n",
    "        # a = p.split('\\\\')[1]\n",
    "        # g = df[df[\"Subject\"] == a]['Group'].values[0] \n",
    "        im = nib.load(p).get_fdata()\n",
    "        data.append(im)\n",
    "        dist_file = os.path.join(data_dir,name)\n",
    "        if len(data) > 0 : \n",
    "            shutil.copyfile(p, dist_file)\n",
    "            data = []\n",
    "\n"
   ]
  }
 ],
 "metadata": {
  "kernelspec": {
   "display_name": "Python 3.6.9 64-bit",
   "language": "python",
   "name": "python3"
  },
  "language_info": {
   "codemirror_mode": {
    "name": "ipython",
    "version": 3
   },
   "file_extension": ".py",
   "mimetype": "text/x-python",
   "name": "python",
   "nbconvert_exporter": "python",
   "pygments_lexer": "ipython3",
   "version": "3.6.9"
  },
  "orig_nbformat": 4,
  "vscode": {
   "interpreter": {
    "hash": "31f2aee4e71d21fbe5cf8b01ff0e069b9275f58929596ceb00d14d90e3e16cd6"
   }
  }
 },
 "nbformat": 4,
 "nbformat_minor": 2
}
