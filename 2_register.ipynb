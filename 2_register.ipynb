{
 "cells": [
  {
   "cell_type": "code",
   "execution_count": 5,
   "metadata": {},
   "outputs": [],
   "source": [
    "import os\n",
    "import subprocess\n",
    "import matplotlib.pyplot as plt\n",
    "from multiprocessing import Pool, cpu_count"
   ]
  },
  {
   "cell_type": "code",
   "execution_count": 6,
   "metadata": {},
   "outputs": [
    {
     "name": "stdout",
     "output_type": "stream",
     "text": [
      "--2022-08-10 07:26:43--  https://github.com/Washington-University/HCPpipelines/blob/master/global/templates/MNI152_T1_1mm.nii.gz\n",
      "Resolving github.com (github.com)... 140.82.121.4\n",
      "Connecting to github.com (github.com)|140.82.121.4|:443... connected.\n",
      "HTTP request sent, awaiting response... 200 OK\n",
      "Length: unspecified [text/html]\n",
      "Saving to: ‘MNI152_T1_1mm.nii.gz.3’\n",
      "\n",
      "MNI152_T1_1mm.nii.g     [    <=>             ] 138.34K   160KB/s    in 0.9s    \n",
      "\n",
      "2022-08-10 07:26:44 (160 KB/s) - ‘MNI152_T1_1mm.nii.gz.3’ saved [141665]\n",
      "\n"
     ]
    }
   ],
   "source": [
    "!wget https://github.com/Washington-University/HCPpipelines/blob/master/global/templates/MNI152_T1_1mm.nii.gz"
   ]
  },
  {
   "cell_type": "code",
   "execution_count": 7,
   "metadata": {},
   "outputs": [],
   "source": [
    "def plot_middle(data, slice_no=None):\n",
    "    if not slice_no:\n",
    "        slice_no = data.shape[-1] // 2\n",
    "    plt.figure()\n",
    "    plt.imshow(data[..., slice_no], cmap=\"gray\")\n",
    "    plt.show()\n",
    "    return\n",
    "\n",
    "\n",
    "def registration(src_path, dst_path, ref_path):\n",
    "    command = [\"flirt\", \"-in\", src_path, \"-ref\", ref_path, \"-out\", dst_path,\n",
    "               \"-bins\", \"256\", \"-cost\", \"corratio\", \"-searchrx\", \"0\", \"0\",\n",
    "               \"-searchry\", \"0\", \"0\", \"-searchrz\", \"0\", \"0\", \"-dof\", \"12\",\n",
    "               \"-interp\", \"spline\"]\n",
    "    subprocess.call(command, stdout=open(os.devnull, \"r\"),\n",
    "                    stderr=subprocess.STDOUT)\n",
    "    return\n",
    "\n",
    "\n",
    "def orient2std(src_path, dst_path):\n",
    "    command = [\"fslreorient2std\", src_path, dst_path]\n",
    "    subprocess.call(command)\n",
    "    return\n",
    "\n",
    "\n",
    "def create_dir(path):\n",
    "    if not os.path.isdir(path):\n",
    "        os.makedirs(path)\n",
    "    return\n",
    "\n",
    "\n",
    "def unwarp_main(arg, **kwarg):\n",
    "    return main(*arg, **kwarg)\n",
    "\n",
    "\n",
    "def main(src_path, dst_path, ref_path):\n",
    "    print(\"Registration on: \", src_path)\n",
    "    try:\n",
    "        orient2std(src_path, dst_path)\n",
    "        registration(dst_path, dst_path, ref_path)\n",
    "    except RuntimeError:\n",
    "        print(\"\\tFalied on: \", src_path)\n",
    "\n",
    "    return"
   ]
  },
  {
   "cell_type": "code",
   "execution_count": 8,
   "metadata": {},
   "outputs": [
    {
     "name": "stdout",
     "output_type": "stream",
     "text": [
      "Registration on: Registration on: Registration on: Registration on: Registration on:     Registration on: Registration on: Registration on: Registration on: /mnt/c/Users/hhich/OneDrive/Desktop/stageadni/data/ADNIData/ADNI_012_S_1009_MR_MPR____N3__Scaled_Br_20080224151000732_S43089_I92316.niiRegistration on: /mnt/c/Users/hhich/OneDrive/Desktop/stageadni/data/ADNIData/ADNI_002_S_1261_MR_MPR____N3__Scaled_Br_20070807144436756_S27226_I65561.nii/mnt/c/Users/hhich/OneDrive/Desktop/stageadni/data/ADNIData/ADNI_005_S_0448_MR_MPR__GradWarp__B1_Correction__N3__Scaled_Br_20070904174004430_S32787_I71302.nii   /mnt/c/Users/hhich/OneDrive/Desktop/stageadni/data/ADNIData/ADNI_018_S_0369_MR_MPR____N3__Scaled_Br_20070828110545014_S30432_I70680.nii\n",
      "\n",
      " \n",
      " /mnt/c/Users/hhich/OneDrive/Desktop/stageadni/data/ADNIData/ADNI_016_S_1121_MR_MPR-R__GradWarp__B1_Correction__N3__Scaled_Br_20090210095958290_S61187_I135570.nii/mnt/c/Users/hhich/OneDrive/Desktop/stageadni/data/ADNIData/ADNI_002_S_0413_MR_MPR____N3__Scaled_2_Br_20081001114937668_S14782_I118675.nii/mnt/c/Users/hhich/OneDrive/Desktop/stageadni/data/ADNIData/ADNI_018_S_0450_MR_MPR____N3__Scaled_Br_20071002180752596_S33479_I76601.nii\n",
      "\n",
      " /mnt/c/Users/hhich/OneDrive/Desktop/stageadni/data/ADNIData/ADNI_005_S_0814_MR_MPR__GradWarp__B1_Correction__N3__Scaled_Br_20081029154648050_S57167_I124421.nii\n",
      "\n",
      "/mnt/c/Users/hhich/OneDrive/Desktop/stageadni/data/ADNIData/ADNI_002_S_1018_MR_MPR____N3__Scaled_Br_20070217032215330_S24312_I40828.nii/mnt/c/Users/hhich/OneDrive/Desktop/stageadni/data/ADNIData/ADNI_023_S_0331_MR_MPR__GradWarp__B1_Correction__N3__Scaled_Br_20070812140259245_S28331_I67174.nii\n",
      "\n",
      "\n",
      "Registration on: Registration on:  /mnt/c/Users/hhich/OneDrive/Desktop/stageadni/data/ADNIData/ADNI_023_S_0058_MR_MPR__GradWarp__B1_Correction__N3__Scaled_2_Br_20081001152327374_S24251_I118852.nii /mnt/c/Users/hhich/OneDrive/Desktop/stageadni/data/ADNIData/ADNI_023_S_0030_MR_MPR__GradWarp__B1_Correction__N3__Scaled_2_Br_20081001135554720_S8908_I118790.nii\n",
      "\n"
     ]
    },
    {
     "name": "stderr",
     "output_type": "stream",
     "text": [
      "matrix multiplication: problem with matrix inverse; suggest to use solve() instead\n",
      "terminate called after throwing an instance of 'std::runtime_error'\n",
      "  what():  matrix multiplication: problem with matrix inverse; suggest to use solve() instead\n",
      "Aborted\n",
      "matrix multiplication: problem with matrix inverse; suggest to use solve() instead\n",
      "terminate called after throwing an instance of 'std::runtime_error'\n",
      "  what():  matrix multiplication: problem with matrix inverse; suggest to use solve() instead\n",
      "Aborted\n",
      "matrix multiplication: problem with matrix inverse; suggest to use solve() instead\n",
      "terminate called after throwing an instance of 'std::runtime_error'\n",
      "  what():  matrix multiplication: problem with matrix inverse; suggest to use solve() instead\n",
      "Aborted\n"
     ]
    },
    {
     "name": "stdout",
     "output_type": "stream",
     "text": [
      "Registration on:  /mnt/c/Users/hhich/OneDrive/Desktop/stageadni/data/ADNIData/ADNI_002_S_1261_MR_MPR____N3__Scaled_Br_20081224110926692_S60591_I132220.nii\n",
      "Registration on:  /mnt/c/Users/hhich/OneDrive/Desktop/stageadni/data/ADNIData/ADNI_018_S_0450_MR_MPR____N3__Scaled_Br_20080626135034172_S51236_I111192.nii\n",
      "Registration on:  /mnt/c/Users/hhich/OneDrive/Desktop/stageadni/data/ADNIData/ADNI_007_S_1206_MR_MPR__GradWarp__B1_Correction__N3__Scaled_Br_20070713113644677_S25703_I59955.nii\n",
      "Registration on:  Registration on: /mnt/c/Users/hhich/OneDrive/Desktop/stageadni/data/ADNIData/ADNI_002_S_0413_MR_MPR____N3__Scaled_Br_20070216232854688_S14782_I40657.nii /mnt/c/Users/hhich/OneDrive/Desktop/stageadni/data/ADNIData/ADNI_023_S_0376_MR_MPR__GradWarp__B1_Correction__N3__Scaled_2_Br_20081001154518431_S13786_I118882.nii\n",
      "\n",
      "Registration on:  /mnt/c/Users/hhich/OneDrive/Desktop/stageadni/data/ADNIData/ADNI_005_S_0448_MR_MPR__GradWarp__B1_Correction__N3__Scaled_Br_20080611160931996_S50957_I109196.nii\n",
      "Registration on:  /mnt/c/Users/hhich/OneDrive/Desktop/stageadni/data/ADNIData/ADNI_002_S_1018_MR_MPR____N3__Scaled_Br_20080313095739932_S43496_I97022.nii\n",
      "Registration on: Registration on:   /mnt/c/Users/hhich/OneDrive/Desktop/stageadni/data/ADNIData/ADNI_018_S_0369_MR_MPR____N3__Scaled_Br_20080529143553941_S50063_I107779.nii\n",
      "/mnt/c/Users/hhich/OneDrive/Desktop/stageadni/data/ADNIData/ADNI_023_S_0061_MR_MPR__GradWarp__B1_Correction__N3__Scaled_2_Br_20081001152459303_S10633_I118854.nii\n",
      "Registration on:  /mnt/c/Users/hhich/OneDrive/Desktop/stageadni/data/ADNIData/ADNI_023_S_0031_MR_MPR-R__GradWarp__B1_Correction__N3__Scaled_2_Br_20081001152020822_S10009_I118848.nii\n",
      "Registration on: Registration on:  "
     ]
    },
    {
     "name": "stderr",
     "output_type": "stream",
     "text": [
      "matrix multiplication: problem with matrix inverse; suggest to use solve() instead\n",
      "terminate called after throwing an instance of 'std::runtime_error'\n",
      "  what():  matrix multiplication: problem with matrix inverse; suggest to use solve() instead\n",
      "Aborted\n",
      "matrix multiplication: problem with matrix inverse; suggest to use solve() instead\n",
      "terminate called after throwing an instance of 'std::runtime_error'\n",
      "  what():  matrix multiplication: problem with matrix inverse; suggest to use solve() instead\n",
      "Aborted\n",
      "matrix multiplication: problem with matrix inverse; suggest to use solve() instead\n",
      "terminate called after throwing an instance of 'std::runtime_error'\n",
      "  what():  matrix multiplication: problem with matrix inverse; suggest to use solve() instead\n",
      "Aborted\n"
     ]
    },
    {
     "name": "stdout",
     "output_type": "stream",
     "text": [
      " /mnt/c/Users/hhich/OneDrive/Desktop/stageadni/data/ADNIData/ADNI_012_S_1009_MR_MPR____N3__Scaled_Br_20090106140504041_S60789_I132800.nii/mnt/c/Users/hhich/OneDrive/Desktop/stageadni/data/ADNIData/ADNI_016_S_1121_MR_MPR__GradWarp__B1_Correction__N3__Scaled_Br_20071229175133442_S25229_I86327.nii\n",
      "\n",
      "Registration on:  /mnt/c/Users/hhich/OneDrive/Desktop/stageadni/data/ADNIData/ADNI_002_S_1018_MR_MPR____N3__Scaled_Br_20090106140133108_S60846_I132795.nii\n",
      "Registration on:  /mnt/c/Users/hhich/OneDrive/Desktop/stageadni/data/ADNIData/ADNI_002_S_0413_MR_MPR____N3__Scaled_Br_20070804124954957_S32945_I64551.nii\n",
      "Registration on:  /mnt/c/Users/hhich/OneDrive/Desktop/stageadni/data/ADNIData/ADNI_005_S_0572_MR_MPR-R__GradWarp__B1_Correction__N3__Scaled_Br_20071223123153496_S34606_I86030.nii\n",
      "Registration on:  /mnt/c/Users/hhich/OneDrive/Desktop/stageadni/data/ADNIData/ADNI_018_S_0633_MR_MPR____N3__Scaled_Br_20070904192251723_S35155_I71451.nii\n",
      "Registration on:  /mnt/c/Users/hhich/OneDrive/Desktop/stageadni/data/ADNIData/ADNI_002_S_1280_MR_MPR____N3__Scaled_Br_20080501162136568_S47415_I104471.nii\n",
      "Registration on:  /mnt/c/Users/hhich/OneDrive/Desktop/stageadni/data/ADNIData/ADNI_023_S_0376_MR_MPR__GradWarp__B1_Correction__N3__Scaled_Br_20070805131701599_S28518_I64800.nii\n",
      "Registration on:  /mnt/c/Users/hhich/OneDrive/Desktop/stageadni/data/ADNIData/ADNI_023_S_0061_MR_MPR__GradWarp__B1_Correction__N3__Scaled_Br_20071113172723593_S23481_I81874.nii\n",
      "Registration on: Registration on:   /mnt/c/Users/hhich/OneDrive/Desktop/stageadni/data/ADNIData/ADNI_023_S_0031_MR_MPR-R__GradWarp__B1_Correction__N3__Scaled_Br_20070427181838920_S10009_I51934.nii/mnt/c/Users/hhich/OneDrive/Desktop/stageadni/data/ADNIData/ADNI_007_S_1206_MR_MPR__GradWarp__B1_Correction__N3__Scaled_Br_20090407152057920_S62967_I140782.nii\n",
      "\n",
      "Registration on:  /mnt/c/Users/hhich/OneDrive/Desktop/stageadni/data/ADNIData/ADNI_018_S_0335_MR_MPR____N3__Scaled_Br_20081013185417194_S52049_I120469.nii\n",
      "Registration on:  /mnt/c/Users/hhich/OneDrive/Desktop/stageadni/data/ADNIData/ADNI_018_S_0425_MR_MPR____N3__Scaled_Br_20070808163439425_S33626_I65952.nii\n",
      "Registration on:  /mnt/c/Users/hhich/OneDrive/Desktop/stageadni/data/ADNIData/ADNI_016_S_1117_MR_MPR__GradWarp__B1_Correction__N3__Scaled_Br_20071229174509877_S25222_I86318.nii\n",
      "Registration on:  /mnt/c/Users/hhich/OneDrive/Desktop/stageadni/data/ADNIData/ADNI_002_S_0413_MR_MPR____N3__Scaled_Br_20081014173055492_S54597_I120746.nii\n",
      "Registration on:  /mnt/c/Users/hhich/OneDrive/Desktop/stageadni/data/ADNIData/ADNI_002_S_1070_MR_MPR____N3__Scaled_Br_20070217034203890_S24206_I40840.nii\n",
      "Registration on:  /mnt/c/Users/hhich/OneDrive/Desktop/stageadni/data/ADNIData/ADNI_005_S_0814_MR_MPR__GradWarp__B1_Correction__N3__Scaled_Br_20070923123736255_S19117_I74600.nii\n",
      "Registration on:  /mnt/c/Users/hhich/OneDrive/Desktop/stageadni/data/ADNIData/ADNI_018_S_0633_MR_MPR____N3__Scaled_Br_20081013190034535_S54179_I120476.nii\n",
      "Registration on:  /mnt/c/Users/hhich/OneDrive/Desktop/stageadni/data/ADNIData/ADNI_023_S_0376_MR_MPR__GradWarp__B1_Correction__N3__Scaled_Br_20080423171440892_S48752_I103654.nii\n",
      "Registration on:  /mnt/c/Users/hhich/OneDrive/Desktop/stageadni/data/ADNIData/ADNI_023_S_0031_MR_MPR__GradWarp__B1_Correction__N3__Scaled_Br_20071127114844832_S42753_I83389.nii\n",
      "Registration on:  /mnt/c/Users/hhich/OneDrive/Desktop/stageadni/data/ADNIData/ADNI_023_S_0061_MR_MPR__GradWarp__B1_Correction__N3__Scaled_Br_20080111135822317_S43840_I87064.nii\n",
      "Registration on:  Registration on: /mnt/c/Users/hhich/OneDrive/Desktop/stageadni/data/ADNIData/ADNI_012_S_0689_MR_MPR-R____N3__Scaled_Br_20070711164229152_S16978_I59174.nii\n",
      " Registration on: /mnt/c/Users/hhich/OneDrive/Desktop/stageadni/data/ADNIData/ADNI_002_S_1280_MR_MPR____N3__Scaled_Br_20090407145026305_S63388_I140739.nii \n",
      "/mnt/c/Users/hhich/OneDrive/Desktop/stageadni/data/ADNIData/ADNI_016_S_1117_MR_MPR__GradWarp__B1_Correction__N3__Scaled_Br_20080220095943547_S44329_I90866.nii\n",
      "Registration on:  /mnt/c/Users/hhich/OneDrive/Desktop/stageadni/data/ADNIData/ADNI_018_S_0369_MR_MPR____N3__Scaled_2_Br_20081001133930148_S14343_I118773.nii\n",
      "Registration on:  /mnt/c/Users/hhich/OneDrive/Desktop/stageadni/data/ADNIData/ADNI_018_S_0425_MR_MPR____N3__Scaled_Br_20081013160851310_S51225_I120403.nii\n"
     ]
    },
    {
     "name": "stderr",
     "output_type": "stream",
     "text": [
      "matrix multiplication: problem with matrix inverse; suggest to use solve() instead\n",
      "terminate called after throwing an instance of 'std::runtime_error'\n",
      "  what():  matrix multiplication: problem with matrix inverse; suggest to use solve() instead\n",
      "Aborted\n"
     ]
    },
    {
     "name": "stdout",
     "output_type": "stream",
     "text": [
      "Registration on:  /mnt/c/Users/hhich/OneDrive/Desktop/stageadni/data/ADNIData/ADNI_002_S_0729_MR_MPR____N3__Scaled_Br_20081027115509985_S56800_I124008.nii\n",
      "Registration on:  /mnt/c/Users/hhich/OneDrive/Desktop/stageadni/data/ADNIData/ADNI_005_S_0814_MR_MPR__GradWarp__B1_Correction__N3__Scaled_Br_20071219103854028_S43028_I85469.nii\n",
      "Registration on:  /mnt/c/Users/hhich/OneDrive/Desktop/stageadni/data/ADNIData/ADNI_002_S_1070_MR_MPR____N3__Scaled_Br_20071227094032049_S43530_I86231.nii\n",
      "Registration on:  /mnt/c/Users/hhich/OneDrive/Desktop/stageadni/data/ADNIData/ADNI_023_S_0058_MR_MPR__GradWarp__B1_Correction__N3__Scaled_2_Br_20081001151149388_S10498_I118837.nii\n",
      "Registration on:  /mnt/c/Users/hhich/OneDrive/Desktop/stageadni/data/ADNIData/ADNI_023_S_0388_MR_MPR__GradWarp__B1_Correction__N3__Scaled_2_Br_20081001152646586_S14001_I118856.nii\n",
      "Registration on: Registration on:   /mnt/c/Users/hhich/OneDrive/Desktop/stageadni/data/ADNIData/ADNI_023_S_0030_MR_MPR-R__GradWarp__B1_Correction__N3__Scaled_Br_20090312152026543_S20029_I138580.nii\n"
     ]
    },
    {
     "name": "stderr",
     "output_type": "stream",
     "text": [
      "matrix multiplication: problem with matrix inverse; suggest to use solve() instead\n",
      "terminate called after throwing an instance of 'std::runtime_error'\n",
      "  what():  matrix multiplication: problem with matrix inverse; suggest to use solve() instead\n",
      "Aborted\n",
      "matrix multiplication: problem with matrix inverse; suggest to use solve() instead\n",
      "terminate called after throwing an instance of 'std::runtime_error'\n",
      "  what():  matrix multiplication: problem with matrix inverse; suggest to use solve() instead\n",
      "Aborted\n"
     ]
    },
    {
     "name": "stdout",
     "output_type": "stream",
     "text": [
      "/mnt/c/Users/hhich/OneDrive/Desktop/stageadni/data/ADNIData/ADNI_023_S_0331_MR_MPR__GradWarp__B1_Correction__N3__Scaled_Br_20070808173645065_S13168_I66018.nii\n",
      "Registration on:  /mnt/c/Users/hhich/OneDrive/Desktop/stageadni/data/ADNIData/ADNI_016_S_1117_MR_MPR__GradWarp__B1_Correction__N3__Scaled_Br_20090309162532154_S63702_I138103.nii\n",
      "Registration on:  /mnt/c/Users/hhich/OneDrive/Desktop/stageadni/data/ADNIData/ADNI_012_S_0689_MR_MPR____N3__Scaled_Br_20070923132626782_S36506_I74659.nii\n"
     ]
    },
    {
     "name": "stderr",
     "output_type": "stream",
     "text": [
      "matrix multiplication: problem with matrix inverse; suggest to use solve() instead\n",
      "terminate called after throwing an instance of 'std::runtime_error'\n",
      "  what():  matrix multiplication: problem with matrix inverse; suggest to use solve() instead\n",
      "Aborted\n"
     ]
    },
    {
     "name": "stdout",
     "output_type": "stream",
     "text": [
      "Registration on:  /mnt/c/Users/hhich/OneDrive/Desktop/stageadni/data/ADNIData/ADNI_018_S_0425_MR_MPR____N3__Scaled_Br_20090326124223290_S15637_I139891.nii\n",
      "Registration on:  /mnt/c/Users/hhich/OneDrive/Desktop/stageadni/data/ADNIData/ADNI_005_S_0324_MR_MPR__GradWarp__B1_Correction__N3__Scaled_Br_20070828100626599_S31973_I70611.nii\n",
      "Registration on:  /mnt/c/Users/hhich/OneDrive/Desktop/stageadni/data/ADNIData/ADNI_023_S_0388_MR_MPR__GradWarp__B1_Correction__N3__Scaled_2_Br_20081001153723387_S29861_I118871.nii\n",
      "Registration on:  /mnt/c/Users/hhich/OneDrive/Desktop/stageadni/data/ADNIData/ADNI_023_S_0604_MR_MPR-R__GradWarp__B1_Correction__N3__Scaled_2_Br_20081002113933605_S15677_I119026.nii\n",
      "Registration on:  /mnt/c/Users/hhich/OneDrive/Desktop/stageadni/data/ADNIData/ADNI_018_S_0369_MR_MPR____N3__Scaled_Br_20070123180135564_S14343_I37190.nii"
     ]
    },
    {
     "name": "stderr",
     "output_type": "stream",
     "text": [
      "matrix multiplication: problem with matrix inverse; suggest to use solve() instead\n",
      "terminate called after throwing an instance of 'std::runtime_error'\n",
      "  what():  matrix multiplication: problem with matrix inverse; suggest to use solve() instead\n",
      "Aborted\n"
     ]
    },
    {
     "name": "stdout",
     "output_type": "stream",
     "text": [
      "\n"
     ]
    },
    {
     "name": "stderr",
     "output_type": "stream",
     "text": [
      "matrix multiplication: problem with matrix inverse; suggest to use solve() instead\n",
      "terminate called after throwing an instance of 'std::runtime_error'\n",
      "  what():  matrix multiplication: problem with matrix inverse; suggest to use solve() instead\n",
      "Aborted\n"
     ]
    },
    {
     "name": "stdout",
     "output_type": "stream",
     "text": [
      "Registration on:  /mnt/c/Users/hhich/OneDrive/Desktop/stageadni/data/ADNIData/ADNI_023_S_0625_MR_MPR__GradWarp__B1_Correction__N3__Scaled_Br_20081013171011562_S54691_I120451.nii\n",
      "Registration on:  Registration on: /mnt/c/Users/hhich/OneDrive/Desktop/stageadni/data/ADNIData/ADNI_023_S_0926_MR_MPR__GradWarp__B1_Correction__N3__Scaled_Br_20081103162936500_S57754_I125029.nii\n",
      " /mnt/c/Users/hhich/OneDrive/Desktop/stageadni/data/ADNIData/ADNI_023_S_1046_MR_MPR__GradWarp__B1_Correction__N3__Scaled_Br_20080124114448930_S42331_I88270.nii\n",
      "Registration on:  /mnt/c/Users/hhich/OneDrive/Desktop/stageadni/data/ADNIData/ADNI_023_S_1190_MR_MPR__GradWarp__B1_Correction__N3__Scaled_Br_20080124145245630_S44392_I88372.nii\n",
      "Registration on:  /mnt/c/Users/hhich/OneDrive/Desktop/stageadni/data/ADNIData/ADNI_023_S_1262_MR_MPR__GradWarp__B1_Correction__N3__Scaled_Br_20090512153916694_S64543_I143685.nii\n",
      "Registration on:  /mnt/c/Users/hhich/OneDrive/Desktop/stageadni/data/ADNIData/ADNI_027_S_0403_MR_MPR__GradWarp__B1_Correction__N3__Scaled_Br_20080516100109644_S49902_I105888.nii\n",
      "Registration on:  /mnt/c/Users/hhich/OneDrive/Desktop/stageadni/data/ADNIData/ADNI_027_S_1081_MR_MPR__GradWarp__B1_Correction__N3__Scaled_Br_20080229155222913_S45549_I94432.nii\n",
      "Registration on:  /mnt/c/Users/hhich/OneDrive/Desktop/stageadni/data/ADNIData/ADNI_027_S_1385_MR_MPR__GradWarp__B1_Correction__N3__Scaled_Br_20090505102357735_S64402_I143178.nii\n",
      "Registration on:  /mnt/c/Users/hhich/OneDrive/Desktop/stageadni/data/ADNIData/ADNI_023_S_0388_MR_MPR__GradWarp__B1_Correction__N3__Scaled_Br_20061203120855584_S14001_I31446.nii\n",
      "Registration on:  /mnt/c/Users/hhich/OneDrive/Desktop/stageadni/data/ADNIData/ADNI_023_S_0604_MR_MPR-R__GradWarp__B1_Correction__N3__Scaled_Br_20061203124804456_S15677_I31468.nii\n",
      "Registration on:  /mnt/c/Users/hhich/OneDrive/Desktop/stageadni/data/ADNIData/ADNI_031_S_1066_MR_MPR__GradWarp__B1_Correction__N3__Scaled_Br_20080220103435137_S23507_I90916.nii\n",
      "Registration on: Registration on:   /mnt/c/Users/hhich/OneDrive/Desktop/stageadni/data/ADNIData/ADNI_027_S_0307_MR_MPR__GradWarp__B1_Correction__N3__Scaled_Br_20061222185350351_S14336_I34168.nii/mnt/c/Users/hhich/OneDrive/Desktop/stageadni/data/ADNIData/ADNI_023_S_1190_MR_MPR__GradWarp__B1_Correction__N3__Scaled_Br_20090309131958877_S61896_I138050.niiRegistration on: \n",
      "\n",
      " /mnt/c/Users/hhich/OneDrive/Desktop/stageadni/data/ADNIData/ADNI_023_S_0963_MR_MPR-R__GradWarp__B1_Correction__N3__Scaled_2_Br_20081001154938503_S20204_I118904.nii\n",
      "Registration on:  /mnt/c/Users/hhich/OneDrive/Desktop/stageadni/data/ADNIData/ADNI_023_S_1126_MR_MPR-R__GradWarp__B1_Correction__N3__Scaled_Br_20070828111153037_S23968_I70687.nii\n",
      "Registration on:  /mnt/c/Users/hhich/OneDrive/Desktop/stageadni/data/ADNIData/ADNI_023_S_0916_MR_MPR__GradWarp__B1_Correction__N3__Scaled_Br_20061203143925761_S19523_I31540.niiRegistration on:  \n",
      "/mnt/c/Users/hhich/OneDrive/Desktop/stageadni/data/ADNIData/ADNI_027_S_0404_MR_MPR__GradWarp__B1_Correction__N3__Scaled_Br_20061222193516770_S14494_I34195.nii\n"
     ]
    },
    {
     "name": "stderr",
     "output_type": "stream",
     "text": [
      "matrix multiplication: problem with matrix inverse; suggest to use solve() instead\n",
      "terminate called after throwing an instance of 'std::runtime_error'\n",
      "  what():  matrix multiplication: problem with matrix inverse; suggest to use solve() instead\n",
      "Aborted\n"
     ]
    },
    {
     "name": "stdout",
     "output_type": "stream",
     "text": [
      "Registration on:  /mnt/c/Users/hhich/OneDrive/Desktop/stageadni/data/ADNIData/ADNI_027_S_1081_MR_MPR__GradWarp__B1_Correction__N3__Scaled_Br_20090212093103740_S62633_I135775.nii\n",
      "Registration on:  /mnt/c/Users/hhich/OneDrive/Desktop/stageadni/data/ADNIData/ADNI_032_S_0677_MR_MPR__GradWarp__B1_Correction__N3__Scaled_Br_20081013190308953_S55812_I120479.nii\n",
      "Registration on:  /mnt/c/Users/hhich/OneDrive/Desktop/stageadni/data/ADNIData/ADNI_027_S_1387_MR_MPR-R__GradWarp__B1_Correction__N3__Scaled_Br_20090422154709210_S64292_I142375.nii\n",
      "Registration on:  /mnt/c/Users/hhich/OneDrive/Desktop/stageadni/data/ADNIData/ADNI_023_S_0388_MR_MPR__GradWarp__B1_Correction__N3__Scaled_Br_20080408125115592_S29861_I101432.nii\n",
      "Registration on:  Registration on: /mnt/c/Users/hhich/OneDrive/Desktop/stageadni/data/ADNIData/ADNI_023_S_0604_MR_MPR-R__GradWarp__B1_Correction__N3__Scaled_Br_20070802173458625_S33372_I64077.nii \n",
      "/mnt/c/Users/hhich/OneDrive/Desktop/stageadni/data/ADNIData/ADNI_031_S_1066_MR_MPR__GradWarp__B1_Correction__N3__Scaled_Br_20081204171122222_S60309_I129313.nii\n",
      "Registration on:  /mnt/c/Users/hhich/OneDrive/Desktop/stageadni/data/ADNIData/ADNI_023_S_1247_MR_MPR-R__GradWarp__B1_Correction__N3__Scaled_Br_20090504152403133_S64442_I143116.niiRegistration on:  /mnt/c/Users/hhich/OneDrive/Desktop/stageadni/data/ADNIData/ADNI_023_S_0963_MR_MPR__GradWarp__B1_Correction__N3__Scaled_Br_20071115093426943_S41289_I82205.nii\n",
      "\n",
      "Registration on:  /mnt/c/Users/hhich/OneDrive/Desktop/stageadni/data/ADNIData/ADNI_027_S_0307_MR_MPR__GradWarp__B1_Correction__N3__Scaled_Br_20070808172558926_S31552_I66009.nii\n",
      "Registration on:  /mnt/c/Users/hhich/OneDrive/Desktop/stageadni/data/ADNIData/ADNI_027_S_0404_MR_MPR__GradWarp__B1_Correction__N3__Scaled_Br_20080522115340039_S49987_I106467.nii\n",
      "Registration on:  /mnt/c/Users/hhich/OneDrive/Desktop/stageadni/data/ADNIData/ADNI_023_S_1126_MR_MPR__GradWarp__B1_Correction__N3__Scaled_Br_20080302124111638_S43059_I94863.nii\n",
      "Registration on:  /mnt/c/Users/hhich/OneDrive/Desktop/stageadni/data/ADNIData/ADNI_023_S_0916_MR_MPR__GradWarp__B1_Correction__N3__Scaled_Br_20071101155340047_S40736_I80152.niiRegistration on: \n",
      " /mnt/c/Users/hhich/OneDrive/Desktop/stageadni/data/ADNIData/ADNI_027_S_1082_MR_MPR__GradWarp__B1_Correction__N3__Scaled_Br_20070327155420107_S23987_I47186.nii\n",
      "Registration on:  /mnt/c/Users/hhich/OneDrive/Desktop/stageadni/data/ADNIData/ADNI_031_S_0830_MR_MPR-R__GradWarp__B1_Correction__N3__Scaled_Br_20081027135813050_S56755_I124115.nii\n",
      "Registration on:  /mnt/c/Users/hhich/OneDrive/Desktop/stageadni/data/ADNIData/ADNI_032_S_1169_MR_MPR__GradWarp__B1_Correction__N3__Scaled_Br_20080229162032629_S44666_I94476.nii\n",
      "Registration on:  /mnt/c/Users/hhich/OneDrive/Desktop/stageadni/data/ADNIData/ADNI_023_S_0625_MR_MPR__GradWarp__B1_Correction__N3__Scaled_2_Br_20081002114733225_S16766_I119032.nii\n",
      "Registration on:  /mnt/c/Users/hhich/OneDrive/Desktop/stageadni/data/ADNIData/ADNI_023_S_0388_MR_MPR__GradWarp__B1_Correction__N3__Scaled_Br_20080423172140565_S48815_I103663.nii\n",
      "Registration on:  /mnt/c/Users/hhich/OneDrive/Desktop/stageadni/data/ADNIData/ADNI_031_S_1209_MR_MPR__GradWarp__B1_Correction__N3__Scaled_Br_20090420145927373_S62928_I142001.nii\n",
      "Registration on: Registration on:   /mnt/c/Users/hhich/OneDrive/Desktop/stageadni/data/ADNIData/ADNI_023_S_0963_MR_MPR__GradWarp__B1_Correction__N3__Scaled_Br_20081204152616250_S60208_I129286.nii\n"
     ]
    },
    {
     "name": "stderr",
     "output_type": "stream",
     "text": [
      "matrix multiplication: problem with matrix inverse; suggest to use solve() instead\n",
      "terminate called after throwing an instance of 'std::runtime_error'\n",
      "  what():  matrix multiplication: problem with matrix inverse; suggest to use solve() instead\n",
      "Aborted\n"
     ]
    },
    {
     "name": "stdout",
     "output_type": "stream",
     "text": [
      "/mnt/c/Users/hhich/OneDrive/Desktop/stageadni/data/ADNIData/ADNI_023_S_1262_MR_MPR-R__GradWarp__B1_Correction__N3__Scaled_2_Br_20081001160446675_S27243_I118924.nii\n",
      "Registration on:  /mnt/c/Users/hhich/OneDrive/Desktop/stageadni/data/ADNIData/ADNI_027_S_0835_MR_MPR__GradWarp__B1_Correction__N3__Scaled_Br_20070109231952406_S19496_I35653.nii\n"
     ]
    },
    {
     "name": "stderr",
     "output_type": "stream",
     "text": [
      "matrix multiplication: problem with matrix inverse; suggest to use solve() instead\n",
      "terminate called after throwing an instance of 'std::runtime_error'\n",
      "  what():  matrix multiplication: problem with matrix inverse; suggest to use solve() instead\n",
      "Aborted\n"
     ]
    },
    {
     "name": "stdout",
     "output_type": "stream",
     "text": [
      "Registration on:  /mnt/c/Users/hhich/OneDrive/Desktop/stageadni/data/ADNIData/ADNI_027_S_0307_MR_MPR__GradWarp__B1_Correction__N3__Scaled_Br_20080423173553799_S48827_I103681.nii\n",
      "Registration on:  /mnt/c/Users/hhich/OneDrive/Desktop/stageadni/data/ADNIData/ADNI_027_S_1385_MR_MPR__GradWarp__B1_Correction__N3__Scaled_Br_20070807092416718_S28972_I65374.nii\n",
      "Registration on:  /mnt/c/Users/hhich/OneDrive/Desktop/stageadni/data/ADNIData/ADNI_023_S_0926_MR_MPR-R__GradWarp__B1_Correction__N3__Scaled_Br_20090312161219095_S20160_I138627.nii\n",
      "Registration on:  /mnt/c/Users/hhich/OneDrive/Desktop/stageadni/data/ADNIData/ADNI_023_S_1190_MR_MPR__GradWarp__B1_Correction__N3__Scaled_2_Br_20081001160151605_S25153_I118920.nii\n",
      "Registration on:  /mnt/c/Users/hhich/OneDrive/Desktop/stageadni/data/ADNIData/ADNI_031_S_0830_MR_MPR-R__GradWarp__B1_Correction__N3__Scaled_Br_20090313093246631_S19249_I138792.nii\n"
     ]
    },
    {
     "name": "stderr",
     "output_type": "stream",
     "text": [
      "matrix multiplication: problem with matrix inverse; suggest to use solve() instead\n",
      "terminate called after throwing an instance of 'std::runtime_error'\n",
      "  what():  matrix multiplication: problem with matrix inverse; suggest to use solve() instead\n",
      "Aborted\n",
      "matrix multiplication: problem with matrix inverse; suggest to use solve() instead\n",
      "terminate called after throwing an instance of 'std::runtime_error'\n",
      "  what():  matrix multiplication: problem with matrix inverse; suggest to use solve() instead\n",
      "Aborted\n"
     ]
    },
    {
     "name": "stdout",
     "output_type": "stream",
     "text": [
      "Registration on:  /mnt/c/Users/hhich/OneDrive/Desktop/stageadni/data/ADNIData/ADNI_032_S_1169_MR_MPR__GradWarp__B1_Correction__N3__Scaled_Br_20090408170123590_S62137_I141230.nii\n",
      "Registration on:  /mnt/c/Users/hhich/OneDrive/Desktop/stageadni/data/ADNIData/ADNI_032_S_0677_MR_MPR__GradWarp__B1_Correction__N3__Scaled_Br_20070917105517823_S35547_I73347.nii\n",
      "Registration on:  /mnt/c/Users/hhich/OneDrive/Desktop/stageadni/data/ADNIData/ADNI_023_S_1262_MR_MPR__GradWarp__B1_Correction__N3__Scaled_Br_20080421163348281_S47824_I103276.nii\n",
      "Registration on:  Registration on: /mnt/c/Users/hhich/OneDrive/Desktop/stageadni/data/ADNIData/ADNI_023_S_1046_MR_MPR__GradWarp__B1_Correction__N3__Scaled_2_Br_20081001155242429_S22606_I118908.nii\n",
      " /mnt/c/Users/hhich/OneDrive/Desktop/stageadni/data/ADNIData/ADNI_023_S_0604_MR_MPR-R__GradWarp__B1_Correction__N3__Scaled_2_Br_20081002104356385_S33372_I119006.nii\n",
      "Registration on:  /mnt/c/Users/hhich/OneDrive/Desktop/stageadni/data/ADNIData/ADNI_023_S_0625_MR_MPR__GradWarp__B1_Correction__N3__Scaled_Br_20061203133805576_S16766_I31500.nii\n"
     ]
    },
    {
     "name": "stderr",
     "output_type": "stream",
     "text": [
      "matrix multiplication: problem with matrix inverse; suggest to use solve() instead\n",
      "terminate called after throwing an instance of 'std::runtime_error'\n",
      "  what():  matrix multiplication: problem with matrix inverse; suggest to use solve() instead\n",
      "Aborted\n",
      "matrix multiplication: problem with matrix inverse; suggest to use solve() instead\n",
      "terminate called after throwing an instance of 'std::runtime_error'\n",
      "  what():  matrix multiplication: problem with matrix inverse; suggest to use solve() instead\n",
      "Aborted\n"
     ]
    },
    {
     "name": "stdout",
     "output_type": "stream",
     "text": [
      "Registration on:  /mnt/c/Users/hhich/OneDrive/Desktop/stageadni/data/ADNIData/ADNI_027_S_1081_MR_MPR__GradWarp__B1_Correction__N3__Scaled_Br_20070327153912557_S26054_I47177.nii\n",
      "Registration on:  /mnt/c/Users/hhich/OneDrive/Desktop/stageadni/data/ADNIData/ADNI_023_S_0926_MR_MPR__GradWarp__B1_Correction__N3__Scaled_Br_20071113181008708_S41848_I81937.nii\n",
      "Registration on:  Registration on: /mnt/c/Users/hhich/OneDrive/Desktop/stageadni/data/ADNIData/ADNI_023_S_1190_MR_MPR__GradWarp__B1_Correction__N3__Scaled_Br_20070427203443094_S25153_I52129.nii\n",
      " /mnt/c/Users/hhich/OneDrive/Desktop/stageadni/data/ADNIData/ADNI_027_S_1385_MR_MPR__GradWarp__B1_Correction__N3__Scaled_Br_20080408152926155_S47505_I101541.nii\n",
      "Registration on:  /mnt/c/Users/hhich/OneDrive/Desktop/stageadni/data/ADNIData/ADNI_027_S_0403_MR_MPR__GradWarp__B1_Correction__N3__Scaled_Br_20070813143207736_S32184_I67380.nii\n",
      "Registration on:  /mnt/c/Users/hhich/OneDrive/Desktop/stageadni/data/ADNIData/ADNI_031_S_1066_MR_MPR-R__GradWarp__B1_Correction__N3__Scaled_Br_20080111142901961_S44040_I87106.nii\n",
      "Registration on:  /mnt/c/Users/hhich/OneDrive/Desktop/stageadni/data/ADNIData/ADNI_037_S_0303_MR_MPR__GradWarp__B1_Correction__N3__Scaled_Br_20070802181222889_S13916_I64116.nii\n",
      "Registration on:  /mnt/c/Users/hhich/OneDrive/Desktop/stageadni/data/ADNIData/ADNI_037_S_0501_MR_MPR-R__GradWarp__B1_Correction__N3__Scaled_Br_20071030163828841_S15805_I79784.nii\n",
      "Registration on:  /mnt/c/Users/hhich/OneDrive/Desktop/stageadni/data/ADNIData/ADNI_032_S_0677_MR_MPR__GradWarp__B1_Correction__N3__Scaled_Br_20080220105435721_S19889_I90942.nii\n",
      "Registration on:  /mnt/c/Users/hhich/OneDrive/Desktop/stageadni/data/ADNIData/ADNI_053_S_0507_MR_MPR____N3__Scaled_2_Br_20081003141216462_S33392_I119158.nii\n",
      "Registration on:  /mnt/c/Users/hhich/OneDrive/Desktop/stageadni/data/ADNIData/ADNI_067_S_0290_MR_MPR__GradWarp__B1_Correction__N3__Scaled_Br_20080611160129027_S50875_I109187.nii\n",
      "Registration on:  /mnt/c/Users/hhich/OneDrive/Desktop/stageadni/data/ADNIData/ADNI_100_S_0190_MR_MPR____N3__Scaled_Br_20071118115111622_S32134_I82556.nii\n"
     ]
    },
    {
     "name": "stderr",
     "output_type": "stream",
     "text": [
      "matrix multiplication: problem with matrix inverse; suggest to use solve() instead\n",
      "terminate called after throwing an instance of 'std::runtime_error'\n",
      "  what():  matrix multiplication: problem with matrix inverse; suggest to use solve() instead\n",
      "Aborted\n"
     ]
    },
    {
     "name": "stdout",
     "output_type": "stream",
     "text": [
      "Registration on:  /mnt/c/Users/hhich/OneDrive/Desktop/stageadni/data/ADNIData/ADNI_116_S_0382_MR_MPR__GradWarp__B1_Correction__N3__Scaled_Br_20080117114012937_S33693_I87739.nii\n",
      "Registration on:  /mnt/c/Users/hhich/OneDrive/Desktop/stageadni/data/ADNIData/ADNI_116_S_0649_MR_MPR__GradWarp__B1_Correction__N3__Scaled_Br_20070731185839496_S18687_I63508.nii\n",
      "Registration on:  /mnt/c/Users/hhich/OneDrive/Desktop/stageadni/data/ADNIData/ADNI_116_S_1249_MR_MPR__GradWarp__B1_Correction__N3__Scaled_Br_20080223173636549_S45487_I91921.nii\n",
      "Registration on:  /mnt/c/Users/hhich/OneDrive/Desktop/stageadni/data/ADNIData/ADNI_127_S_0260_MR_MPR__GradWarp__B1_Correction__N3__Scaled_Br_20070731195531372_S31931_I63565.nii\n",
      "Registration on:  /mnt/c/Users/hhich/OneDrive/Desktop/stageadni/data/ADNIData/ADNI_127_S_0844_MR_MPR__GradWarp__B1_Correction__N3__Scaled_Br_20081209114252932_S60080_I129629.nii\n",
      "Registration on:  \n",
      "/mnt/c/Users/hhich/OneDrive/Desktop/stageadni/data/ADNIData/ADNI_037_S_0303_MR_MPR__GradWarp__B1_Correction__N3__Scaled_Br_20090313100252849_S30681_I138806.niiRegistration on:  /mnt/c/Users/hhich/OneDrive/Desktop/stageadni/data/ADNIData/ADNI_130_S_0505_MR_MPR____N3__Scaled_Br_20081030095808424_S57499_I124536.nii\n",
      "Registration on:  /mnt/c/Users/hhich/OneDrive/Desktop/stageadni/data/ADNIData/ADNI_051_S_1123_MR_MPR__GradWarp__B1_Correction__N3__Scaled_Br_20070628171146730_S25973_I58054.nii\n",
      "Registration on:  /mnt/c/Users/hhich/OneDrive/Desktop/stageadni/data/ADNIData/ADNI_130_S_0956_MR_MPR____N3__Scaled_Br_20081209120621816_S58319_I129655.nii\n",
      "Registration on:  /mnt/c/Users/hhich/OneDrive/Desktop/stageadni/data/ADNIData/ADNI_053_S_0507_MR_MPR____N3__Scaled_Br_20070927074706802_S15256_I75459.nii\n",
      "Registration on:  /mnt/c/Users/hhich/OneDrive/Desktop/stageadni/data/ADNIData/ADNI_116_S_0382_MR_MPR__GradWarp__B1_Correction__N3__Scaled_Br_20081026134853747_S50711_I123767.nii\n",
      "Registration on:  /mnt/c/Users/hhich/OneDrive/Desktop/stageadni/data/ADNIData/ADNI_100_S_1286_MR_MPR____N3__Scaled_Br_20071119085444964_S28476_I82571.nii\n",
      "Registration on: Registration on:  Registration on: /mnt/c/Users/hhich/OneDrive/Desktop/stageadni/data/ADNIData/ADNI_116_S_1232_MR_MPR-R__GradWarp__B1_Correction__N3__Scaled_Br_20070508160617696_S27150_I53836.nii  \n",
      "/mnt/c/Users/hhich/OneDrive/Desktop/stageadni/data/ADNIData/ADNI_067_S_0607_MR_MPR-R__GradWarp__B1_Correction__N3__Scaled_Br_20090313104940015_S37331_I138844.nii/mnt/c/Users/hhich/OneDrive/Desktop/stageadni/data/ADNIData/ADNI_127_S_0260_MR_MPR__GradWarp__B1_Correction__N3__Scaled_Br_20080522163149690_S50016_I106542.nii\n",
      "\n",
      "Registration on:  /mnt/c/Users/hhich/OneDrive/Desktop/stageadni/data/ADNIData/ADNI_126_S_0605_MR_MPR__GradWarp__B1_Correction__N3__Scaled_Br_20070209185049979_S15942_I38878.nii\n",
      "Registration on:  /mnt/c/Users/hhich/OneDrive/Desktop/stageadni/data/ADNIData/ADNI_130_S_0449_MR_MPR-R____N3__Scaled_Br_20071110121628197_S18012_I81434.nii\n",
      "Registration on:  /mnt/c/Users/hhich/OneDrive/Desktop/stageadni/data/ADNIData/ADNI_136_S_0184_MR_MPR-R____N3__Scaled_Br_20080415154909319_S47135_I102840.nii\n",
      "Registration on:  /mnt/c/Users/hhich/OneDrive/Desktop/stageadni/data/ADNIData/ADNI_130_S_0886_MR_MPR-R____N3__Scaled_Br_20070211002657559_S20151_I39288.nii\n",
      "Registration on:  /mnt/c/Users/hhich/OneDrive/Desktop/stageadni/data/ADNIData/ADNI_130_S_0969_MR_MPR____N3__Scaled_Br_20080224154049674_S42414_I92363.nii\n",
      "Registration on:  /mnt/c/Users/hhich/OneDrive/Desktop/stageadni/data/ADNIData/ADNI_051_S_1123_MR_MPR__GradWarp__B1_Correction__N3__Scaled_Br_20090421114051834_S63819_I142107.nii\n",
      "Registration on:  /mnt/c/Users/hhich/OneDrive/Desktop/stageadni/data/ADNIData/ADNI_053_S_0507_MR_MPR____N3__Scaled__No_phantom_for_scaling_Br_20090107125111129_S51462_I132918.nii\n"
     ]
    },
    {
     "name": "stderr",
     "output_type": "stream",
     "text": [
      "matrix multiplication: problem with matrix inverse; suggest to use solve() instead\n",
      "terminate called after throwing an instance of 'std::runtime_error'\n",
      "  what():  matrix multiplication: problem with matrix inverse; suggest to use solve() instead\n",
      "Aborted\n"
     ]
    },
    {
     "name": "stdout",
     "output_type": "stream",
     "text": [
      "Registration on:  /mnt/c/Users/hhich/OneDrive/Desktop/stageadni/data/ADNIData/ADNI_116_S_0487_MR_MPR-R__GradWarp__B1_Correction__N3__Scaled_Br_20070712180404741_S17729_I59677.nii\n",
      "Registration on:  /mnt/c/Users/hhich/OneDrive/Desktop/stageadni/data/ADNIData/ADNI_127_S_0622_MR_MPR__GradWarp__B1_Correction__N3__Scaled_Br_20070910193313383_S34177_I72352.nii\n",
      "Registration on:  /mnt/c/Users/hhich/OneDrive/Desktop/stageadni/data/ADNIData/ADNI_126_S_0605_MR_MPR__GradWarp__B1_Correction__N3__Scaled_Br_20070912182851106_S33846_I72864.nii\n",
      "Registration on:  /mnt/c/Users/hhich/OneDrive/Desktop/stageadni/data/ADNIData/ADNI_067_S_0607_MR_MPR__GradWarp__B1_Correction__N3__Scaled_Br_20080131140433901_S18034_I89123.nii\n",
      "Registration on:  /mnt/c/Users/hhich/OneDrive/Desktop/stageadni/data/ADNIData/ADNI_116_S_1232_MR_MPR__GradWarp__B1_Correction__N3__Scaled_Br_20090423104047815_S62768_I142425.nii\n",
      "Registration on:  /mnt/c/Users/hhich/OneDrive/Desktop/stageadni/data/ADNIData/ADNI_100_S_1286_MR_MPR____N3__Scaled_Br_20080308132349021_S45574_I96312.nii\n",
      "Registration on:  /mnt/c/Users/hhich/OneDrive/Desktop/stageadni/data/ADNIData/ADNI_130_S_0449_MR_MPR____N3__Scaled_Br_20071119102143821_S38619_I82686.nii\n",
      "Registration on:  /mnt/c/Users/hhich/OneDrive/Desktop/stageadni/data/ADNIData/ADNI_136_S_0184_MR_MPR____N3__Scaled_Br_20070215174801158_S12474_I40191.nii\n",
      "Registration on:  /mnt/c/Users/hhich/OneDrive/Desktop/stageadni/data/ADNIData/ADNI_130_S_0886_MR_MPR____N3__Scaled_Br_20081027143646182_S56975_I124170.nii\n",
      "Registration on:  /mnt/c/Users/hhich/OneDrive/Desktop/stageadni/data/ADNIData/ADNI_051_S_1331_MR_MPR-R__GradWarp__B1_Correction__N3__Scaled_Br_20071118111838279_S30826_I82509.nii\n",
      "Registration on:  /mnt/c/Users/hhich/OneDrive/Desktop/stageadni/data/ADNIData/ADNI_130_S_0969_MR_MPR____N3__Scaled_Br_20081230155100896_S60744_I132451.niiRegistration on:  \n",
      "/mnt/c/Users/hhich/OneDrive/Desktop/stageadni/data/ADNIData/ADNI_067_S_0290_MR_MPR-R__GradWarp__B1_Correction__N3__Scaled_2_Br_20081003160743044_S15130_I119201.nii\n"
     ]
    },
    {
     "name": "stderr",
     "output_type": "stream",
     "text": [
      "matrix multiplication: problem with matrix inverse; suggest to use solve() instead\n",
      "terminate called after throwing an instance of 'std::runtime_error'\n",
      "  what():  matrix multiplication: problem with matrix inverse; suggest to use solve() instead\n",
      "Aborted\n"
     ]
    },
    {
     "name": "stdout",
     "output_type": "stream",
     "text": [
      "Registration on:  /mnt/c/Users/hhich/OneDrive/Desktop/stageadni/data/ADNIData/ADNI_127_S_0622_MR_MPR__GradWarp__B1_Correction__N3__Scaled_Br_20081014094659131_S52556_I120580.nii\n",
      "Registration on:  /mnt/c/Users/hhich/OneDrive/Desktop/stageadni/data/ADNIData/ADNI_116_S_0487_MR_MPR__GradWarp__B1_Correction__N3__Scaled_Br_20080225094838615_S33717_I92420.nii\n",
      "Registration on:  Registration on: /mnt/c/Users/hhich/OneDrive/Desktop/stageadni/data/ADNIData/ADNI_126_S_0605_MR_MPR__GradWarp__B1_Correction__N3__Scaled_Br_20081014091433142_S52648_I120562.nii \n",
      "/mnt/c/Users/hhich/OneDrive/Desktop/stageadni/data/ADNIData/ADNI_067_S_0607_MR_MPR__GradWarp__B1_Correction__N3__Scaled_Br_20090115181725583_S59060_I133882.nii\n",
      "Registration on:  /mnt/c/Users/hhich/OneDrive/Desktop/stageadni/data/ADNIData/ADNI_116_S_1249_MR_MPR-R__GradWarp__B1_Correction__N3__Scaled_Br_20070508161406653_S27351_I53845.nii\n",
      "Registration on:  /mnt/c/Users/hhich/OneDrive/Desktop/stageadni/data/ADNIData/ADNI_130_S_0449_MR_MPR____N3__Scaled_Br_20081014113016096_S55263_I120606.nii\n",
      "Registration on:  /mnt/c/Users/hhich/OneDrive/Desktop/stageadni/data/ADNIData/ADNI_100_S_1286_MR_MPR____N3__Scaled_Br_20090717153824945_S64895_I149636.nii\n",
      "Registration on:  /mnt/c/Users/hhich/OneDrive/Desktop/stageadni/data/ADNIData/ADNI_130_S_0956_MR_MPR____N3__Scaled_Br_20070210223200198_S22511_I39200.nii\n",
      "Registration on:  /mnt/c/Users/hhich/OneDrive/Desktop/stageadni/data/ADNIData/ADNI_136_S_0195_MR_MPR____N3__Scaled_Br_20070215185520914_S12748_I40254.nii\n",
      "Registration on: Registration on:   /mnt/c/Users/hhich/OneDrive/Desktop/stageadni/data/ADNIData/ADNI_053_S_0507_MR_MPR____N3__Scaled_2_Br_20081003140851627_S15256_I119146.nii\n",
      "/mnt/c/Users/hhich/OneDrive/Desktop/stageadni/data/ADNIData/ADNI_136_S_0086_MR_MPR____N3__Scaled_2_Br_20081008132340839_S14069_I119685.nii\n",
      "Registration on:  /mnt/c/Users/hhich/OneDrive/Desktop/stageadni/data/ADNIData/ADNI_067_S_0290_MR_MPR-R__GradWarp__B1_Correction__N3__Scaled_Br_20070911104732616_S33684_I72427.nii\n"
     ]
    },
    {
     "name": "stderr",
     "output_type": "stream",
     "text": [
      "matrix multiplication: problem with matrix inverse; suggest to use solve() instead\n",
      "terminate called after throwing an instance of 'std::runtime_error'\n",
      "  what():  matrix multiplication: problem with matrix inverse; suggest to use solve() instead\n",
      "Aborted\n",
      "matrix multiplication: problem with matrix inverse; suggest to use solve() instead\n",
      "terminate called after throwing an instance of 'std::runtime_error'\n",
      "  what():  matrix multiplication: problem with matrix inverse; suggest to use solve() instead\n",
      "Aborted\n"
     ]
    },
    {
     "name": "stdout",
     "output_type": "stream",
     "text": [
      "Registration on:  /mnt/c/Users/hhich/OneDrive/Desktop/stageadni/data/ADNIData/ADNI_127_S_0844_MR_MPR__GradWarp__B1_Correction__N3__Scaled_Br_20071119095745044_S42006_I82651.nii\n",
      "Registration on:  /mnt/c/Users/hhich/OneDrive/Desktop/stageadni/data/ADNIData/ADNI_116_S_0487_MR_MPR__GradWarp__B1_Correction__N3__Scaled_Br_20080617165712709_S51211_I109893.nii\n",
      "Registration on:  /mnt/c/Users/hhich/OneDrive/Desktop/stageadni/data/ADNIData/ADNI_100_S_0190_MR_MPR____N3__Scaled_Br_20061213165243410_S15011_I33114.nii\n",
      "Registration on:  /mnt/c/Users/hhich/OneDrive/Desktop/stageadni/data/ADNIData/ADNI_127_S_0260_MR_MPR__GradWarp__B1_Correction__N3__Scaled_Br_20061227143400735_S13858_I34371.nii\n",
      "Registration on:  /mnt/c/Users/hhich/OneDrive/Desktop/stageadni/data/ADNIData/ADNI_116_S_1249_MR_MPR-R__GradWarp__B1_Correction__N3__Scaled_Br_20090317145337635_S62655_I139325.nii\n",
      "Registration on:  /mnt/c/Users/hhich/OneDrive/Desktop/stageadni/data/ADNIData/ADNI_130_S_0505_MR_MPR____N3__Scaled_Br_20080220155941165_S41323_I91168.nii\n",
      "Registration on:  /mnt/c/Users/hhich/OneDrive/Desktop/stageadni/data/ADNIData/ADNI_116_S_0382_MR_MPR__GradWarp__B1_Correction__N3__Scaled_Br_20070508153859326_S15735_I53802.nii\n",
      "Registration on:  /mnt/c/Users/hhich/OneDrive/Desktop/stageadni/data/ADNIData/ADNI_130_S_0956_MR_MPR____N3__Scaled_Br_20071119103328096_S42138_I82700.nii\n",
      "Registration on:  /mnt/c/Users/hhich/OneDrive/Desktop/stageadni/data/ADNIData/ADNI_136_S_0196_MR_MPR____N3__Scaled_Br_20070809224441151_S31829_I66740.nii\n",
      "Registration on:  /mnt/c/Users/hhich/OneDrive/Desktop/stageadni/data/ADNIData/ADNI_136_S_0195_MR_MPR____N3__Scaled_Br_20071113184014832_S28912_I81981.nii\n",
      "Registration on:  /mnt/c/Users/hhich/OneDrive/Desktop/stageadni/data/ADNIData/ADNI_136_S_0086_MR_MPR____N3__Scaled_Br_20070215172221943_S14069_I40172.nii\n",
      "Registration on:  /mnt/c/Users/hhich/OneDrive/Desktop/stageadni/data/ADNIData/ADNI_136_S_0426_MR_MPR____N3__Scaled_Br_20081013164839346_S51029_I120441.nii\n",
      "Registration on:  /mnt/c/Users/hhich/OneDrive/Desktop/stageadni/data/ADNIData/ADNI_136_S_0579_MR_MPR____N3__Scaled_Br_20081014114857145_S55502_I120618.nii\n",
      "Registration on:  /mnt/c/Users/hhich/OneDrive/Desktop/stageadni/data/ADNIData/ADNI_136_S_0196_MR_MPR____N3__Scaled_Br_20070215192140032_S13831_I40269.nii\n",
      "Registration on:  /mnt/c/Users/hhich/OneDrive/Desktop/stageadni/data/ADNIData/ADNI_136_S_0300_MR_MPR-R____N3__Scaled_Br_20070215211009479_S15349_I40352.nii\n",
      "Registration on:  /mnt/c/Users/hhich/OneDrive/Desktop/stageadni/data/ADNIData/ADNI_136_S_1227_MR_MPR____N3__Scaled_Br_20070810000731580_S26837_I66824.nii\n",
      "Registration on:  /mnt/c/Users/hhich/OneDrive/Desktop/stageadni/data/ADNIData/ADNI_136_S_0429_MR_MPR____N3__Scaled_2_Br_20081008134614922_S15882_I119733.nii\n"
     ]
    },
    {
     "name": "stderr",
     "output_type": "stream",
     "text": [
      "matrix multiplication: problem with matrix inverse; suggest to use solve() instead\n",
      "terminate called after throwing an instance of 'std::runtime_error'\n",
      "  what():  matrix multiplication: problem with matrix inverse; suggest to use solve() instead\n",
      "Aborted\n"
     ]
    },
    {
     "name": "stdout",
     "output_type": "stream",
     "text": [
      "Registration on:  /mnt/c/Users/hhich/OneDrive/Desktop/stageadni/data/ADNIData/ADNI_136_S_0300_MR_MPR____N3__Scaled_Br_20081013164320616_S50330_I120436.nii\n",
      "Registration on:  /mnt/c/Users/hhich/OneDrive/Desktop/stageadni/data/ADNIData/ADNI_136_S_1227_MR_MPR____N3__Scaled_Br_20080321160112071_S46753_I99265.nii\n",
      "Registration on:  /mnt/c/Users/hhich/OneDrive/Desktop/stageadni/data/ADNIData/ADNI_136_S_0429_MR_MPR____N3__Scaled_Br_20071127184003417_S33730_I83549.nii\n",
      "Registration on:  /mnt/c/Users/hhich/OneDrive/Desktop/stageadni/data/ADNIData/ADNI_136_S_1227_MR_MPR____N3__Scaled_Br_20090514132202278_S64957_I143856.nii\n",
      "Registration on:  /mnt/c/Users/hhich/OneDrive/Desktop/stageadni/data/ADNIData/ADNI_136_S_0426_MR_MPR____N3__Scaled_2_Br_20081008134424912_S15017_I119731.nii\n"
     ]
    },
    {
     "name": "stderr",
     "output_type": "stream",
     "text": [
      "matrix multiplication: problem with matrix inverse; suggest to use solve() instead\n",
      "terminate called after throwing an instance of 'std::runtime_error'\n",
      "  what():  matrix multiplication: problem with matrix inverse; suggest to use solve() instead\n",
      "Aborted\n"
     ]
    },
    {
     "name": "stdout",
     "output_type": "stream",
     "text": [
      "Registration on:  /mnt/c/Users/hhich/OneDrive/Desktop/stageadni/data/ADNIData/ADNI_136_S_0429_MR_MPR____N3__Scaled_Br_20081013165355471_S51722_I120446.nii\n",
      "Registration on:  /mnt/c/Users/hhich/OneDrive/Desktop/stageadni/data/ADNIData/ADNI_136_S_0426_MR_MPR____N3__Scaled_Br_20070809233020851_S32971_I66787.nii\n",
      "Registration on:  /mnt/c/Users/hhich/OneDrive/Desktop/stageadni/data/ADNIData/ADNI_136_S_0579_MR_MPR-R____N3__Scaled_2_Br_20081008134806053_S16545_I119735.nii\n"
     ]
    },
    {
     "data": {
      "text/plain": [
       "[None,\n",
       " None,\n",
       " None,\n",
       " None,\n",
       " None,\n",
       " None,\n",
       " None,\n",
       " None,\n",
       " None,\n",
       " None,\n",
       " None,\n",
       " None,\n",
       " None,\n",
       " None,\n",
       " None,\n",
       " None,\n",
       " None,\n",
       " None,\n",
       " None,\n",
       " None,\n",
       " None,\n",
       " None,\n",
       " None,\n",
       " None,\n",
       " None,\n",
       " None,\n",
       " None,\n",
       " None,\n",
       " None,\n",
       " None,\n",
       " None,\n",
       " None,\n",
       " None,\n",
       " None,\n",
       " None,\n",
       " None,\n",
       " None,\n",
       " None,\n",
       " None,\n",
       " None,\n",
       " None,\n",
       " None,\n",
       " None,\n",
       " None,\n",
       " None,\n",
       " None,\n",
       " None,\n",
       " None,\n",
       " None,\n",
       " None,\n",
       " None,\n",
       " None,\n",
       " None,\n",
       " None,\n",
       " None,\n",
       " None,\n",
       " None,\n",
       " None,\n",
       " None,\n",
       " None,\n",
       " None,\n",
       " None,\n",
       " None,\n",
       " None,\n",
       " None,\n",
       " None,\n",
       " None,\n",
       " None,\n",
       " None,\n",
       " None,\n",
       " None,\n",
       " None,\n",
       " None,\n",
       " None,\n",
       " None,\n",
       " None,\n",
       " None,\n",
       " None,\n",
       " None,\n",
       " None,\n",
       " None,\n",
       " None,\n",
       " None,\n",
       " None,\n",
       " None,\n",
       " None,\n",
       " None,\n",
       " None,\n",
       " None,\n",
       " None,\n",
       " None,\n",
       " None,\n",
       " None,\n",
       " None,\n",
       " None,\n",
       " None,\n",
       " None,\n",
       " None,\n",
       " None,\n",
       " None,\n",
       " None,\n",
       " None,\n",
       " None,\n",
       " None,\n",
       " None,\n",
       " None,\n",
       " None,\n",
       " None,\n",
       " None,\n",
       " None,\n",
       " None,\n",
       " None,\n",
       " None,\n",
       " None,\n",
       " None,\n",
       " None,\n",
       " None,\n",
       " None,\n",
       " None,\n",
       " None,\n",
       " None,\n",
       " None,\n",
       " None,\n",
       " None,\n",
       " None,\n",
       " None,\n",
       " None,\n",
       " None,\n",
       " None,\n",
       " None,\n",
       " None,\n",
       " None,\n",
       " None,\n",
       " None,\n",
       " None,\n",
       " None,\n",
       " None,\n",
       " None,\n",
       " None,\n",
       " None,\n",
       " None,\n",
       " None,\n",
       " None,\n",
       " None,\n",
       " None,\n",
       " None,\n",
       " None,\n",
       " None,\n",
       " None,\n",
       " None,\n",
       " None,\n",
       " None,\n",
       " None,\n",
       " None,\n",
       " None,\n",
       " None,\n",
       " None,\n",
       " None,\n",
       " None,\n",
       " None,\n",
       " None,\n",
       " None,\n",
       " None,\n",
       " None,\n",
       " None,\n",
       " None,\n",
       " None,\n",
       " None,\n",
       " None,\n",
       " None,\n",
       " None,\n",
       " None,\n",
       " None,\n",
       " None,\n",
       " None,\n",
       " None,\n",
       " None,\n",
       " None,\n",
       " None,\n",
       " None,\n",
       " None,\n",
       " None,\n",
       " None,\n",
       " None,\n",
       " None,\n",
       " None,\n",
       " None,\n",
       " None,\n",
       " None,\n",
       " None,\n",
       " None,\n",
       " None,\n",
       " None,\n",
       " None]"
      ]
     },
     "execution_count": 8,
     "metadata": {},
     "output_type": "execute_result"
    }
   ],
   "source": [
    "parent_dir = os.getcwd()\n",
    "data_dir = os.path.join(parent_dir, \"data\")\n",
    "data_src_dir = os.path.join(data_dir, \"ADNIData\")\n",
    "data_dst_dir = os.path.join(data_dir, \"ADNIReg\")\n",
    "create_dir(data_dst_dir)\n",
    "\n",
    "ref_path = os.path.join(parent_dir,\"MNI152_T1_1mm.nii.gz\")\n",
    "\n",
    "data_src_paths, data_dst_paths = [], []\n",
    "for subject in os.listdir(data_src_dir):\n",
    "    data_src_paths.append(os.path.join(data_src_dir, subject))\n",
    "    data_dst_paths.append(os.path.join(data_dst_dir, subject))\n",
    "\n",
    "# Test\n",
    "# main(data_src_paths[0], data_dst_paths[0], ref_path)\n",
    "\n",
    "# Multi-processing\n",
    "paras = zip(data_src_paths, data_dst_paths,\n",
    "            [ref_path] * len(data_src_paths))\n",
    "pool = Pool(processes=cpu_count())\n",
    "pool.map(unwarp_main, paras)\n"
   ]
  },
  {
   "cell_type": "code",
   "execution_count": null,
   "metadata": {},
   "outputs": [],
   "source": []
  }
 ],
 "metadata": {
  "kernelspec": {
   "display_name": "Python 3.8.13 ('fslpython')",
   "language": "python",
   "name": "python3"
  },
  "language_info": {
   "codemirror_mode": {
    "name": "ipython",
    "version": 3
   },
   "file_extension": ".py",
   "mimetype": "text/x-python",
   "name": "python",
   "nbconvert_exporter": "python",
   "pygments_lexer": "ipython3",
   "version": "3.8.13"
  },
  "orig_nbformat": 4,
  "vscode": {
   "interpreter": {
    "hash": "8f5a176552fc0f23c8f04279340cb4c0ac62022f9ffb83054f20d62859be286b"
   }
  }
 },
 "nbformat": 4,
 "nbformat_minor": 2
}
