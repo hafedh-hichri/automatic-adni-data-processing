{
 "cells": [
  {
   "cell_type": "code",
   "execution_count": 1,
   "metadata": {},
   "outputs": [],
   "source": [
    "from __future__ import print_function\n",
    "\n",
    "import os\n",
    "import shutil\n",
    "import subprocess\n",
    "from multiprocessing import Pool, cpu_count\n",
    "from tqdm import tqdm"
   ]
  },
  {
   "cell_type": "code",
   "execution_count": 2,
   "metadata": {},
   "outputs": [],
   "source": [
    "def create_dir(path):\n",
    "    if not os.path.isdir(path):\n",
    "        os.makedirs(path)\n",
    "    return\n",
    "\n",
    "\n",
    "def fast(src_path, dst_path, temp_dir, temp_path):\n",
    "    try :\n",
    "        command = [\"fast\", \"-t\", \"1\", \"-n\", \"3\", \"-H\", \"0.1\", \"-I\", \"1\", \"-l\", \"20.0\",\n",
    "                \"-o\", temp_dir, src_path]\n",
    "        subprocess.call(command, stdout=open(os.devnull), stderr=subprocess.STDOUT)\n",
    "        shutil.copyfile(temp_path, dst_path)\n",
    "        for i in os.listdir('data/temp'):\n",
    "            name = os.path.join('data/temp', i)\n",
    "            if os.path.isdir(name):\n",
    "                os.rmdir(name)\n",
    "            else:\n",
    "                os.remove(name)\n",
    "        \n",
    "    except : \n",
    "        with open('log.txt','a') as f : \n",
    "            f.write(src_path+\"\\n\")\n",
    "\n",
    "    \n",
    "    return\n",
    "\n",
    "\n",
    "def unwarp_segment(arg, **kwarg):\n",
    "    return segment(*arg, **kwarg)\n",
    "\n",
    "\n",
    "def segment(src_path, dst_path, temp_dir, temp_path):\n",
    "    print(\"Segment on: \", src_path)\n",
    "    try:\n",
    "        fast(src_path, dst_path, temp_dir, temp_path)\n",
    "    except RuntimeError:\n",
    "        print(\"\\tFalid on: \", src_path)\n",
    "    return"
   ]
  },
  {
   "cell_type": "code",
   "execution_count": 3,
   "metadata": {},
   "outputs": [],
   "source": [
    "parent_dir = os.getcwd()\n",
    "data_dir = os.path.join(parent_dir, \"data\")\n",
    "data_src_dir = os.path.join(data_dir, \"ADNIDenoise\")\n",
    "data_dst_dir = os.path.join(data_dir, \"ADNISegment\")\n",
    "temp_holder = os.path.join(data_dir, \"temp\")\n",
    "create_dir(data_dst_dir)\n",
    "\n",
    "data_src_paths, data_dst_paths = [], []\n",
    "temp_dirs, temp_paths = [], []\n",
    "\n",
    "for subject in os.listdir(data_src_dir):\n",
    "    data_src_paths.append(os.path.join(data_src_dir, subject))\n",
    "    data_dst_paths.append(os.path.join(data_dst_dir, subject))\n",
    "    subj_name = subject.split(\".\")[0]\n",
    "    temp_dir = os.path.join(data_dir,\"temp\",subject)\n",
    "    create_dir(temp_dir)\n",
    "    temp_dirs.append(temp_dir)\n",
    "    temp_paths.append(temp_holder + \"/\" + subj_name + \"_pve_1.nii.gz\")\n",
    "with open('log.txt','w') as f :\n",
    "    pass \n"
   ]
  },
  {
   "cell_type": "code",
   "execution_count": 45,
   "metadata": {},
   "outputs": [
    {
     "name": "stdout",
     "output_type": "stream",
     "text": [
      "/mnt/c/Users/hhich/OneDrive/Desktop/stageadni/data/ADNIDenoise/ADNI_002_S_0413_MR_MPR____N3__Scaled_2_Br_20081001114937668_S14782_I118675.nii.gz /mnt/c/Users/hhich/OneDrive/Desktop/stageadni/data/ADNISegment/ADNI_002_S_0413_MR_MPR____N3__Scaled_2_Br_20081001114937668_S14782_I118675.nii.gz /mnt/c/Users/hhich/OneDrive/Desktop/stageadni/data/temp/ADNI_002_S_0413_MR_MPR____N3__Scaled_2_Br_20081001114937668_S14782_I118675.nii.gz /mnt/c/Users/hhich/OneDrive/Desktop/stageadni/data/temp/ADNI_002_S_0413_MR_MPR____N3__Scaled_2_Br_20081001114937668_S14782_I118675_pve_1.nii.gz\n"
     ]
    },
    {
     "name": "stderr",
     "output_type": "stream",
     "text": [
      "  0%|          | 0/194 [00:00<?, ?it/s]"
     ]
    },
    {
     "name": "stdout",
     "output_type": "stream",
     "text": [
      "Segment on:  /mnt/c/Users/hhich/OneDrive/Desktop/stageadni/data/ADNIDenoise/ADNI_002_S_0413_MR_MPR____N3__Scaled_2_Br_20081001114937668_S14782_I118675.nii.gz\n"
     ]
    },
    {
     "name": "stderr",
     "output_type": "stream",
     "text": [
      "  1%|          | 1/194 [01:22<4:26:27, 82.84s/it]"
     ]
    },
    {
     "name": "stdout",
     "output_type": "stream",
     "text": [
      "Segment on:  /mnt/c/Users/hhich/OneDrive/Desktop/stageadni/data/ADNIDenoise/ADNI_002_S_0413_MR_MPR____N3__Scaled_Br_20070216232854688_S14782_I40657.nii.gz\n"
     ]
    },
    {
     "name": "stderr",
     "output_type": "stream",
     "text": [
      "  1%|          | 2/194 [02:41<4:17:57, 80.61s/it]"
     ]
    },
    {
     "name": "stdout",
     "output_type": "stream",
     "text": [
      "Segment on:  /mnt/c/Users/hhich/OneDrive/Desktop/stageadni/data/ADNIDenoise/ADNI_002_S_0413_MR_MPR____N3__Scaled_Br_20070804124954957_S32945_I64551.nii.gz\n"
     ]
    },
    {
     "name": "stderr",
     "output_type": "stream",
     "text": [
      "  2%|▏         | 3/194 [04:06<4:22:17, 82.39s/it]"
     ]
    },
    {
     "name": "stdout",
     "output_type": "stream",
     "text": [
      "Segment on:  /mnt/c/Users/hhich/OneDrive/Desktop/stageadni/data/ADNIDenoise/ADNI_002_S_0413_MR_MPR____N3__Scaled_Br_20081014173055492_S54597_I120746.nii.gz\n"
     ]
    },
    {
     "name": "stderr",
     "output_type": "stream",
     "text": [
      "  2%|▏         | 4/194 [05:28<4:20:46, 82.35s/it]"
     ]
    },
    {
     "name": "stdout",
     "output_type": "stream",
     "text": [
      "Segment on:  /mnt/c/Users/hhich/OneDrive/Desktop/stageadni/data/ADNIDenoise/ADNI_002_S_0729_MR_MPR____N3__Scaled_Br_20081027115509985_S56800_I124008.nii.gz\n"
     ]
    }
   ],
   "source": [
    "# Test\n",
    "print(data_src_paths[0], data_dst_paths[0],\n",
    "      temp_dirs[0], temp_paths[0])\n",
    "for i in tqdm(range(len(data_src_paths))):\n",
    "    segment(data_src_paths[i], data_dst_paths[i],\n",
    "            temp_dirs[i], temp_paths[i])\n",
    "# Multi-processing\n",
    "# subj_num = len(data_src_paths)\n",
    "# paras = zip(data_src_paths, data_dst_paths, temp_dirs, temp_paths)\n",
    "# pool = Pool(processes=cpu_count())\n",
    "# pool.map(unwarp_segment, paras)\n"
   ]
  },
  {
   "cell_type": "code",
   "execution_count": 4,
   "metadata": {},
   "outputs": [
    {
     "data": {
      "text/plain": [
       "0"
      ]
     },
     "execution_count": 4,
     "metadata": {},
     "output_type": "execute_result"
    }
   ],
   "source": [
    "src_path='./data/ADNIDenoise/ADNI_002_S_0413_MR_MPR____N3__Scaled_2_Br_20081001114937668_S14782_I118675.nii.gz'\n",
    "temp_dir = './data/temp/ADNI_002_S_0413_MR_MPR____N3__Scaled_2_Br_20081001114937668_S14782_I118675.nii.gz'\n",
    "create_dir(temp_dir)\n",
    "command = [\"fast\", \"-t\", \"1\", \"-n\", \"3\", \"-H\", \"0.1\", \"-I\", \"1\", \"-l\", \"20.0\",\n",
    "           \"-o\", temp_dir, src_path]\n",
    "subprocess.call(command, stdout=open(os.devnull),\n",
    "                stderr=subprocess.STDOUT)\n",
    "# shutil.copyfile(temp_path, dst_path)\n",
    "# for i in os.listdir('data/temp'):\n",
    "#     name = os.path.join('data/temp', i)\n",
    "#     if os.path.isdir(name):\n",
    "#         os.rmdir(name)\n",
    "#     else:\n",
    "#         os.remove(name)\n"
   ]
  },
  {
   "cell_type": "code",
   "execution_count": null,
   "metadata": {},
   "outputs": [],
   "source": []
  }
 ],
 "metadata": {
  "kernelspec": {
   "display_name": "Python 3.8.13 ('fslpython')",
   "language": "python",
   "name": "python3"
  },
  "language_info": {
   "codemirror_mode": {
    "name": "ipython",
    "version": 3
   },
   "file_extension": ".py",
   "mimetype": "text/x-python",
   "name": "python",
   "nbconvert_exporter": "python",
   "pygments_lexer": "ipython3",
   "version": "3.8.13"
  },
  "orig_nbformat": 4,
  "vscode": {
   "interpreter": {
    "hash": "8f5a176552fc0f23c8f04279340cb4c0ac62022f9ffb83054f20d62859be286b"
   }
  }
 },
 "nbformat": 4,
 "nbformat_minor": 2
}
